{
 "cells": [
  {
   "cell_type": "code",
   "execution_count": 23,
   "metadata": {},
   "outputs": [
    {
     "name": "stdout",
     "output_type": "stream",
     "text": [
      "2.0014362260851812\n"
     ]
    },
    {
     "data": {
      "image/png": "[encoded data removed]",
      "text/plain": [
       "<Figure size 432x288 with 1 Axes>"
      ]
     },
     "metadata": {
      "needs_background": "light"
     },
     "output_type": "display_data"
    }
   ],
   "source": [
    "import numpy as np\n",
    "from numpy import random\n",
    "import matplotlib.pyplot as plt\n",
    "\n",
    "class Neuron:\n",
    "    def __init__(self): \n",
    "            random.seed(1)\n",
    "            self.weights = initial_weights = 2 * random.random((1,1)) - 1 \n",
    "    def tanh_derivative(self, x):\n",
    "            return 1 - np.tanh(x) ** 2\n",
    "    def step(self,x): \n",
    "            dot_product =  np.dot(x, self.weights)\n",
    "            return np.tanh(dot_product)\n",
    "    def train(self , iterations, train_inputs, train_outputs):\n",
    "            for i in range(iterations):\n",
    "                output = self.step(train_inputs)\n",
    "                error = train_outputs - output\n",
    "                adjustment = np.dot(train_inputs.T, (error * self.tanh_derivative(output)))\n",
    "                self.weights += adjustment\n",
    "                \n",
    "def function(x):\n",
    "     return 2 * x\n",
    "    \n",
    "x = [i/100 for i in range(300)]\n",
    "y = [function(i/100) for i in range(300)]\n",
    "data = []\n",
    "for i in range (300):\n",
    "    data.append(function(i/100)+random.randint(1,100)/50)\n",
    "    plt.plot(data, \"b.\")\n",
    "    #plt.show()\n",
    "x = np.asarray([x])/100\n",
    "y = np.asarray([y])/100\n",
    "neuron = Neuron()\n",
    "x = x.reshape(300,1) \n",
    "y = y.T\n",
    "neuron.train(10000, x, y)\n",
    "constant = neuron.weights[0][0]\n",
    "print(constant)\n",
    "test_data = [ ] \n",
    "for i in x: \n",
    "    test_data.append(i *100* constant)\n",
    "plt.plot(data, \"bo\") \n",
    "plt.plot(test_data, \"r-\") \n",
    "plt.show() "
   ]
  },
  {
   "cell_type": "code",
   "execution_count": null,
   "metadata": {},
   "outputs": [],
   "source": []
  },
  {
   "cell_type": "code",
   "execution_count": null,
   "metadata": {},
   "outputs": [],
   "source": []
  },
  {
   "cell_type": "code",
   "execution_count": null,
   "metadata": {},
   "outputs": [],
   "source": []
  },
  {
   "cell_type": "code",
   "execution_count": null,
   "metadata": {},
   "outputs": [],
   "source": []
  }
 ],
 "metadata": {
  "kernelspec": {
   "display_name": "Python 3",
   "language": "python",
   "name": "python3"
  },
  "language_info": {
   "codemirror_mode": {
    "name": "ipython",
    "version": 3
   },
   "file_extension": ".py",
   "mimetype": "text/x-python",
   "name": "python",
   "nbconvert_exporter": "python",
   "pygments_lexer": "ipython3",
   "version": "3.7.1"
  }
 },
 "nbformat": 4,
 "nbformat_minor": 2
}
